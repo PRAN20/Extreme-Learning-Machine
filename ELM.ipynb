{
  "nbformat": 4,
  "nbformat_minor": 0,
  "metadata": {
    "colab": {
      "name": "ELM.ipynb",
      "provenance": [],
      "collapsed_sections": [
        "6kONjXycL46I",
        "R_u7YGrWMPdt",
        "k0qkbkiFVGVS",
        "zoc9oVerXwxN",
        "bC4Hdr-BYOUd",
        "5fXcMm-_ZgDd",
        "a50Vdm7zaPfu",
        "k2Gs3nfUeH6e",
        "769KZo9tfKwT",
        "SE6FCEdufxDB"
      ],
      "include_colab_link": true
    },
    "kernelspec": {
      "name": "python3",
      "display_name": "Python 3"
    },
    "language_info": {
      "name": "python"
    }
  },
  "cells": [
    {
      "cell_type": "markdown",
      "metadata": {
        "id": "view-in-github",
        "colab_type": "text"
      },
      "source": [
        "<a href=\"https://colab.research.google.com/github/PRAN20/Extreme-Learning-Machine/blob/main/ELM.ipynb\" target=\"_parent\"><img src=\"https://colab.research.google.com/assets/colab-badge.svg\" alt=\"Open In Colab\"/></a>"
      ]
    },
    {
      "cell_type": "markdown",
      "source": [
        "# **Importing Header Files**"
      ],
      "metadata": {
        "id": "6kONjXycL46I"
      }
    },
    {
      "cell_type": "code",
      "execution_count": null,
      "metadata": {
        "id": "GkgEbfzqL3vE"
      },
      "outputs": [],
      "source": [
        "import pandas as ps\n",
        "import numpy as np\n",
        "import matplotlib.pyplot as plt\n",
        "import os"
      ]
    },
    {
      "cell_type": "markdown",
      "source": [
        "# **Importing DataSet**"
      ],
      "metadata": {
        "id": "R_u7YGrWMPdt"
      }
    },
    {
      "cell_type": "code",
      "source": [
        "from google.colab import drive\n",
        "drive.mount('/content/drive')"
      ],
      "metadata": {
        "colab": {
          "base_uri": "https://localhost:8080/"
        },
        "id": "KOoJEw5wPW10",
        "outputId": "f876332a-15c6-45eb-bfb5-768b6c73254b"
      },
      "execution_count": null,
      "outputs": [
        {
          "output_type": "stream",
          "name": "stdout",
          "text": [
            "Mounted at /content/drive\n"
          ]
        }
      ]
    },
    {
      "cell_type": "code",
      "source": [
        "#os.makedirs('dataset')"
      ],
      "metadata": {
        "id": "ERRfD0VRWptc"
      },
      "execution_count": null,
      "outputs": []
    },
    {
      "cell_type": "code",
      "source": [
        "!unzip \"/content/drive/MyDrive/LeafSnap-1.zip\" -d \"dataset\""
      ],
      "metadata": {
        "colab": {
          "base_uri": "https://localhost:8080/"
        },
        "id": "hO9OBgBfPdsG",
        "outputId": "4d578cfc-3fbe-44fb-aac3-5ea3cc49b91c"
      },
      "execution_count": null,
      "outputs": [
        {
          "output_type": "stream",
          "name": "stdout",
          "text": [
            "Archive:  /content/drive/MyDrive/LeafSnap-1.zip\n",
            " extracting: dataset/content/LeafSnap-1 Csv/X_test.csv  \n",
            " extracting: dataset/content/LeafSnap-1 Csv/y_train.csv  \n",
            " extracting: dataset/content/LeafSnap-1 Csv/y_test.csv  \n",
            " extracting: dataset/content/LeafSnap-1 Csv/X_train.csv  \n"
          ]
        }
      ]
    },
    {
      "cell_type": "code",
      "source": [
        "import pandas as pd\n",
        "train_images=pd.read_csv(\"/content/dataset/content/LeafSnap-1 Csv/X_train.csv\",header=None)\n",
        "x_train=train_images.iloc[:,:].values\n",
        "x_train.shape"
      ],
      "metadata": {
        "colab": {
          "base_uri": "https://localhost:8080/"
        },
        "id": "H6DW32UL-GGT",
        "outputId": "d7e2dddf-7117-4264-f4ab-400b9372a44c"
      },
      "execution_count": null,
      "outputs": [
        {
          "output_type": "execute_result",
          "data": {
            "text/plain": [
              "(6109, 1000)"
            ]
          },
          "metadata": {},
          "execution_count": 13
        }
      ]
    },
    {
      "cell_type": "code",
      "source": [
        "train_labels=pd.read_csv(\"/content/dataset/content/LeafSnap-1 Csv/y_train.csv\",header=None)\n",
        "y_train=train_labels.iloc[:,:].values\n",
        "y_train= y_train.flatten()\n",
        "y_train.shape"
      ],
      "metadata": {
        "colab": {
          "base_uri": "https://localhost:8080/"
        },
        "id": "2Fk0HwNu-RfE",
        "outputId": "bad7bd70-49e1-4464-ddd8-4821847bf0b7"
      },
      "execution_count": null,
      "outputs": [
        {
          "output_type": "execute_result",
          "data": {
            "text/plain": [
              "(6109,)"
            ]
          },
          "metadata": {},
          "execution_count": 6
        }
      ]
    },
    {
      "cell_type": "code",
      "source": [
        "import pandas as pd\n",
        "test_images=pd.read_csv(\"/content/dataset/content/LeafSnap-1 Csv/X_test.csv\",header=None)\n",
        "x_test=test_images.iloc[:,:].values\n",
        "x_test.shape"
      ],
      "metadata": {
        "colab": {
          "base_uri": "https://localhost:8080/"
        },
        "id": "BoHjctwg-WYo",
        "outputId": "d097b037-ae02-4700-eb0a-7e54a35eacae"
      },
      "execution_count": null,
      "outputs": [
        {
          "output_type": "execute_result",
          "data": {
            "text/plain": [
              "(917, 1000)"
            ]
          },
          "metadata": {},
          "execution_count": 5
        }
      ]
    },
    {
      "cell_type": "code",
      "source": [
        "test_labels=pd.read_csv(\"/content/dataset/content/LeafSnap-1 Csv/y_test.csv\",header=None)\n",
        "y_test=test_labels.iloc[:,:].values\n",
        "y_test= y_test.flatten()\n",
        "y_test.shape"
      ],
      "metadata": {
        "colab": {
          "base_uri": "https://localhost:8080/"
        },
        "id": "7kg4OvKA-dTk",
        "outputId": "33de425c-4065-438c-c3bc-1d5346561ba5"
      },
      "execution_count": null,
      "outputs": [
        {
          "output_type": "execute_result",
          "data": {
            "text/plain": [
              "(917,)"
            ]
          },
          "metadata": {},
          "execution_count": 7
        }
      ]
    },
    {
      "cell_type": "markdown",
      "source": [
        "# **Determing The Shape of all The Data**"
      ],
      "metadata": {
        "id": "bGB5LJ4_Us8_"
      }
    },
    {
      "cell_type": "code",
      "source": [
        "x_train.shape"
      ],
      "metadata": {
        "colab": {
          "base_uri": "https://localhost:8080/"
        },
        "id": "oV5XxiucUxox",
        "outputId": "055249e1-3532-4826-a7d6-7aa5e485c68f"
      },
      "execution_count": null,
      "outputs": [
        {
          "output_type": "execute_result",
          "data": {
            "text/plain": [
              "(6109, 1000)"
            ]
          },
          "metadata": {},
          "execution_count": 14
        }
      ]
    },
    {
      "cell_type": "code",
      "source": [
        "y_train.shape"
      ],
      "metadata": {
        "colab": {
          "base_uri": "https://localhost:8080/"
        },
        "id": "qkEZXoJWU0Bk",
        "outputId": "37fb754e-8eba-453d-9a78-452408cc4fe5"
      },
      "execution_count": null,
      "outputs": [
        {
          "output_type": "execute_result",
          "data": {
            "text/plain": [
              "(6109,)"
            ]
          },
          "metadata": {},
          "execution_count": 9
        }
      ]
    },
    {
      "cell_type": "code",
      "source": [
        "x_test.shape"
      ],
      "metadata": {
        "colab": {
          "base_uri": "https://localhost:8080/"
        },
        "id": "39UpnG05U2rO",
        "outputId": "458a3696-e753-43d1-9d24-7d1514e5f7bd"
      },
      "execution_count": null,
      "outputs": [
        {
          "output_type": "execute_result",
          "data": {
            "text/plain": [
              "(917, 1000)"
            ]
          },
          "metadata": {},
          "execution_count": 10
        }
      ]
    },
    {
      "cell_type": "code",
      "source": [
        "y_test.shape"
      ],
      "metadata": {
        "colab": {
          "base_uri": "https://localhost:8080/"
        },
        "id": "pHjkvAiqU4LZ",
        "outputId": "4c9590f8-478f-4b59-87e0-dc0fbd23c261"
      },
      "execution_count": null,
      "outputs": [
        {
          "output_type": "execute_result",
          "data": {
            "text/plain": [
              "(917,)"
            ]
          },
          "metadata": {},
          "execution_count": 11
        }
      ]
    },
    {
      "cell_type": "markdown",
      "source": [
        "# **ELM**"
      ],
      "metadata": {
        "id": "Gp6lxQAP3KKx"
      }
    },
    {
      "cell_type": "code",
      "source": [
        "INPUT_LENGHT = x_train.shape[1]\n",
        "HIDDEN_UNITS = 1000\n",
        "\n",
        "Win = np.random.normal(size=[INPUT_LENGHT, HIDDEN_UNITS])\n",
        "#print('Input Weight shape: {shape}'.format(shape=Win.shape))"
      ],
      "metadata": {
        "id": "1NT10vTZ3N1S"
      },
      "execution_count": null,
      "outputs": []
    },
    {
      "cell_type": "code",
      "source": [
        "def input_to_hidden(x):\n",
        "    a = np.dot(x, Win)\n",
        "    a = np.maximum(a, 0, a) # ReLU\n",
        "    return a"
      ],
      "metadata": {
        "id": "Wmc0Wjc13gde"
      },
      "execution_count": null,
      "outputs": []
    },
    {
      "cell_type": "code",
      "source": [
        "X = input_to_hidden(x_train)\n",
        "Xt = np.transpose(X)\n",
        "Wout = np.dot(np.linalg.inv(np.dot(Xt, X)), np.dot(Xt, y_train))\n",
        "#print('Output weights shape: {shape}'.format(shape=Wout.shape))"
      ],
      "metadata": {
        "id": "SOE-t-8Y3lrp"
      },
      "execution_count": null,
      "outputs": []
    },
    {
      "cell_type": "code",
      "source": [
        "def predict(x):\n",
        "    x = input_to_hidden(x)\n",
        "    y = np.dot(x, Wout)\n",
        "    return y"
      ],
      "metadata": {
        "id": "lsx9LYwr3pg_"
      },
      "execution_count": null,
      "outputs": []
    },
    {
      "cell_type": "code",
      "source": [
        "y = predict(x_test)\n",
        "correct = 0\n",
        "total = y.shape[0]\n",
        "for i in range(total):\n",
        "    predicted = np.argmax(y[i])\n",
        "    test = np.argmax(y_test[i])\n",
        "    correct = correct + (1 if predicted == test else 0)\n",
        "elm = correct/output\n",
        "print('Accuracy: {:f}'.format(elm))"
      ],
      "metadata": {
        "id": "bwWcQ7eI3u6z",
        "outputId": "8b488ede-ccc8-4fb4-efa6-ea56f4f2fae6",
        "colab": {
          "base_uri": "https://localhost:8080/"
        }
      },
      "execution_count": null,
      "outputs": [
        {
          "output_type": "stream",
          "name": "stdout",
          "text": [
            "Accuracy: 0.756000\n"
          ]
        }
      ]
    }
  ]
}